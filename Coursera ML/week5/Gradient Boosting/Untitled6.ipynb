{
 "cells": [
  {
   "cell_type": "code",
   "execution_count": 25,
   "metadata": {
    "collapsed": true
   },
   "outputs": [],
   "source": [
    "from sklearn.ensemble import GradientBoostingClassifier\n",
    "from sklearn.ensemble import RandomForestClassifier\n",
    "from sklearn.cross_validation import train_test_split\n",
    "from sklearn.metrics import log_loss\n",
    "import pandas\n",
    "import numpy as np\n",
    "import matplotlib.pyplot as plt\n",
    "%matplotlib inline"
   ]
  },
  {
   "cell_type": "code",
   "execution_count": 26,
   "metadata": {
    "collapsed": false
   },
   "outputs": [],
   "source": [
    "data = pandas.read_csv('/home/ubuntu/Desktop/Coursera ML/week5/Gradient Boosting/gbm-data.csv')\n",
    "data = data.values\n",
    "y = data[:, 0]\n",
    "X = data[:, 1:]"
   ]
  },
  {
   "cell_type": "code",
   "execution_count": 27,
   "metadata": {
    "collapsed": true
   },
   "outputs": [],
   "source": [
    "X_train, X_test, y_train, y_test = train_test_split(X, y, test_size=0.8, \n",
    "\t\t\t\t\t\t\t\t\t\t\t\t\trandom_state=241)"
   ]
  },
  {
   "cell_type": "code",
   "execution_count": 30,
   "metadata": {
    "collapsed": false
   },
   "outputs": [
    {
     "name": "stdout",
     "output_type": "stream",
     "text": [
      "      Iter       Train Loss   Remaining Time \n",
      "         1           1.2613           52.41s\n",
      "         2           1.1715           49.13s\n",
      "         3           1.1009           45.86s\n",
      "         4           1.0529           44.13s\n",
      "         5           1.0130           43.50s\n",
      "         6           0.9740           43.16s\n",
      "         7           0.9475           42.18s\n",
      "         8           0.9197           41.89s\n",
      "         9           0.8979           41.25s\n",
      "        10           0.8730           40.95s\n",
      "        20           0.7207           35.94s\n",
      "        30           0.6055           33.18s\n",
      "        40           0.5244           31.38s\n",
      "        50           0.4501           30.66s\n",
      "        60           0.3908           28.74s\n",
      "        70           0.3372           27.07s\n",
      "        80           0.3009           25.69s\n",
      "        90           0.2603           24.05s\n",
      "       100           0.2327           22.40s\n",
      "       200           0.0835            7.47s\n",
      "(36, 0.53006923744687318)\n",
      "0.54138128618\n"
     ]
    },
    {
     "data": {
      "image/png": "[encoded data removed]",
      "text/plain": [
       "<matplotlib.figure.Figure at 0x7f9d621c1410>"
      ]
     },
     "metadata": {},
     "output_type": "display_data"
    }
   ],
   "source": [
    "rate = [1, 0.5, 0.3, 0.2, 0.1]\n",
    "rate = [0.2]\n",
    "for i in rate:\n",
    "    GB = GradientBoostingClassifier(n_estimators=250, verbose=True, random_state=241 , learning_rate=i)\n",
    "    GB.fit(X_train, y_train)\n",
    "    minimum = (1, 1)\n",
    "    test_loss = []\n",
    "    for i, y_predicted in enumerate(GB.staged_decision_function(X_test)):\n",
    "        test_loss.append(log_loss(y_test,1/(1+np.exp(-y_predicted))))\n",
    "        if log_loss(y_test,1/(1+np.exp(-y_predicted))) < minimum[1]:\n",
    "            minimum = (i, log_loss(y_test,1/(1+np.exp(-y_predicted))))\n",
    "    train_loss = []\n",
    "    for i, y_predicted in enumerate(GB.staged_decision_function(X_train)):\n",
    "        train_loss.append(log_loss(y_train,1/(1+np.exp(-y_predicted))))  \n",
    "     \n",
    "    print minimum\n",
    "    plt.figure()\n",
    "    plt.plot(test_loss, 'r', linewidth=2)\n",
    "    plt.plot(train_loss, 'g', linewidth=2)\n",
    "    plt.legend(['test', 'train'])    \n",
    "\n",
    "    RF = RandomForestClassifier(n_estimators=minimum[0], n_jobs=-1, random_state=241)\n",
    "    RF.fit(X_train, y_train)\n",
    "    print log_loss(y_test, RF.predict_proba(X_test))"
   ]
  },
  {
   "cell_type": "code",
   "execution_count": null,
   "metadata": {
    "collapsed": true
   },
   "outputs": [],
   "source": []
  }
 ],
 "metadata": {
  "kernelspec": {
   "display_name": "Python 2",
   "language": "python",
   "name": "python2"
  },
  "language_info": {
   "codemirror_mode": {
    "name": "ipython",
    "version": 2
   },
   "file_extension": ".py",
   "mimetype": "text/x-python",
   "name": "python",
   "nbconvert_exporter": "python",
   "pygments_lexer": "ipython2",
   "version": "2.7.6"
  }
 },
 "nbformat": 4,
 "nbformat_minor": 0
}
