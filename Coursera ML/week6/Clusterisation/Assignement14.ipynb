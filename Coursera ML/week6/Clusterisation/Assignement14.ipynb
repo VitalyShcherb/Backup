{
 "cells": [
  {
   "cell_type": "code",
   "execution_count": 93,
   "metadata": {
    "collapsed": true
   },
   "outputs": [],
   "source": [
    "from sklearn.cluster import KMeans\n",
    "from skimage.io import imread\n",
    "from skimage import img_as_float\n",
    "from pandas import DataFrame\n",
    "import numpy as np"
   ]
  },
  {
   "cell_type": "code",
   "execution_count": 94,
   "metadata": {
    "collapsed": false
   },
   "outputs": [
    {
     "name": "stdout",
     "output_type": "stream",
     "text": [
      "           R         G         B\n",
      "0   0.011765  0.490196  0.015686\n",
      "1   0.011765  0.490196  0.015686\n",
      "2   0.007843  0.494118  0.007843\n",
      "3   0.007843  0.494118  0.007843\n",
      "4   0.007843  0.501961  0.011765\n",
      "5   0.011765  0.505882  0.015686\n",
      "6   0.007843  0.513725  0.015686\n",
      "7   0.003922  0.517647  0.015686\n",
      "8   0.007843  0.521569  0.011765\n",
      "9   0.000000  0.525490  0.011765\n",
      "10  0.000000  0.533333  0.007843\n",
      "11  0.003922  0.537255  0.011765\n",
      "12  0.003922  0.545098  0.007843\n",
      "13  0.007843  0.549020  0.011765\n",
      "14  0.003922  0.556863  0.015686\n",
      "15  0.000000  0.560784  0.007843\n",
      "16  0.000000  0.556863  0.000000\n",
      "17  0.000000  0.560784  0.000000\n",
      "18  0.003922  0.564706  0.000000\n",
      "19  0.007843  0.568627  0.003922\n",
      "20  0.007843  0.568627  0.011765\n",
      "21  0.007843  0.568627  0.011765\n",
      "22  0.003922  0.564706  0.007843\n",
      "23  0.003922  0.564706  0.007843\n",
      "24  0.003922  0.556863  0.003922\n",
      "25  0.007843  0.560784  0.007843\n",
      "26  0.007843  0.560784  0.011765\n",
      "27  0.007843  0.560784  0.011765\n",
      "28  0.007843  0.560784  0.011765\n",
      "29  0.003922  0.556863  0.007843\n",
      "30  0.007843  0.549020  0.003922\n",
      "31  0.007843  0.549020  0.011765\n",
      "32  0.011765  0.552941  0.023529\n",
      "33  0.007843  0.545098  0.027451\n",
      "34  0.011765  0.545098  0.027451\n",
      "35  0.007843  0.541176  0.023529\n",
      "36  0.003922  0.537255  0.019608\n",
      "37  0.000000  0.533333  0.015686\n",
      "38  0.003922  0.525490  0.023529\n",
      "39  0.000000  0.521569  0.019608\n",
      "40  0.000000  0.513725  0.011765\n",
      "41  0.000000  0.513725  0.011765\n",
      "42  0.003922  0.509804  0.015686\n",
      "43  0.003922  0.509804  0.015686\n",
      "44  0.011765  0.505882  0.015686\n",
      "45  0.011765  0.505882  0.015686\n",
      "46  0.011765  0.505882  0.015686\n",
      "47  0.011765  0.505882  0.015686\n",
      "48  0.003922  0.486275  0.000000\n",
      "49  0.003922  0.486275  0.000000\n",
      "50  0.000000  0.486275  0.000000\n",
      "51  0.003922  0.490196  0.003922\n",
      "52  0.007843  0.494118  0.007843\n",
      "53  0.007843  0.501961  0.011765\n",
      "54  0.011765  0.505882  0.011765\n",
      "55  0.007843  0.513725  0.015686\n",
      "56  0.007843  0.521569  0.019608\n",
      "57  0.007843  0.521569  0.019608\n",
      "58  0.000000  0.525490  0.011765\n",
      "59  0.003922  0.529412  0.015686\n",
      "         ...       ...       ...\n",
      "\n",
      "[713 rows x 3 columns]\n"
     ]
    }
   ],
   "source": [
    "image = imread('/home/ubuntu/Desktop/Coursera ML/week6/Clusterisation/parrots.jpg')\n",
    "image = img_as_float(image)\n",
    "X = DataFrame(image[0], columns = ['R', 'G', 'B'])\n",
    "print X\n",
    "X = np.array(X)"
   ]
  },
  {
   "cell_type": "code",
   "execution_count": 97,
   "metadata": {
    "collapsed": false
   },
   "outputs": [
    {
     "name": "stdout",
     "output_type": "stream",
     "text": [
      "1 9.36941960064\n",
      "2 17.4609763531\n",
      "3 20.2380398004\n",
      "4 21.6536461204\n",
      "5 22.8194255918\n",
      "6 23.572083558\n",
      "7 24.3573203973\n",
      "8 25.1162825506\n",
      "9 25.8189516191\n",
      "10 26.3425672626\n",
      "11 26.893722429\n",
      "12 27.3239418135\n",
      "13 27.8078510934\n",
      "14 28.0434684265\n",
      "15 28.3257234957\n",
      "16 28.611552523\n",
      "17 28.9214710958\n",
      "18 29.1648380784\n",
      "19 29.4853128152\n",
      "20 29.7490416473\n"
     ]
    }
   ],
   "source": [
    "n_colors =range(1,21)\n",
    "for colors in n_colors:\n",
    "    k_means = KMeans(n_clusters=colors, init='k-means++', random_state=241)\n",
    "    k_means.fit(X)\n",
    "    X_median = X.copy()\n",
    "    for i in range(k_means.n_clusters):\n",
    "        X_median[k_means.labels_==i] = np.median(X[k_means.labels_==i], axis=0)\n",
    "\n",
    "    mse = np.mean((X - X_median) ** 2)\n",
    "    psnr = 10 * np.log10(1.0 / mse)\n",
    "\n",
    "    print colors, psnr"
   ]
  },
  {
   "cell_type": "code",
   "execution_count": 96,
   "metadata": {
    "collapsed": false
   },
   "outputs": [
    {
     "name": "stdout",
     "output_type": "stream",
     "text": [
      "1 10.090519616\n",
      "2 17.7736276346\n",
      "3 20.8586978208\n",
      "4 22.0156387875\n",
      "5 23.1938194151\n",
      "6 23.9361149421\n",
      "7 24.6903294447\n",
      "8 25.4198565322\n",
      "9 26.1115942095\n",
      "10 26.6316682962\n",
      "11 27.211479791\n",
      "12 27.6447457274\n",
      "13 28.0591327535\n",
      "14 28.355080277\n",
      "15 28.6199304416\n",
      "16 28.8967928796\n",
      "17 29.1886553278\n",
      "18 29.4085825147\n",
      "19 29.7204394748\n",
      "20 29.9632781998\n"
     ]
    }
   ],
   "source": [
    "n_colors =range(1,21)\n",
    "for colors in n_colors:\n",
    "    k_means = KMeans(n_clusters=colors, init='k-means++', random_state=241)\n",
    "    k_means.fit(X)\n",
    "    X_median = X.copy()\n",
    "    for i in range(k_means.n_clusters):\n",
    "        X_median[k_means.labels_==i] = np.mean(X[k_means.labels_==i], axis=0)\n",
    "\n",
    "    mse = np.mean((X - X_median) ** 2)\n",
    "    psnr = 10 * np.log10(float(1) / mse)\n",
    "\n",
    "    print colors, psnr"
   ]
  }
 ],
 "metadata": {
  "kernelspec": {
   "display_name": "Python 2",
   "language": "python",
   "name": "python2"
  },
  "language_info": {
   "codemirror_mode": {
    "name": "ipython",
    "version": 2
   },
   "file_extension": ".py",
   "mimetype": "text/x-python",
   "name": "python",
   "nbconvert_exporter": "python",
   "pygments_lexer": "ipython2",
   "version": "2.7.6"
  }
 },
 "nbformat": 4,
 "nbformat_minor": 0
}
