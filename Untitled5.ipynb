{
 "cells": [
  {
   "cell_type": "code",
   "execution_count": 1,
   "metadata": {
    "collapsed": false
   },
   "outputs": [
    {
     "name": "stdout",
     "output_type": "stream",
     "text": [
      "1e-05 0.552639156221\n",
      "0.0001 0.552639156221\n",
      "0.001 0.552639156221\n",
      "0.01 0.552639156221\n",
      "0.1 0.946813138663\n",
      "1 0.991044238925\n",
      "10 0.992723346322\n",
      "100 0.992723346322\n",
      "1000 0.992723346322\n",
      "10000 0.992723346322\n",
      "100000 0.992723346322\n",
      "best: 10 0.992723346322\n"
     ]
    }
   ],
   "source": [
    "from sklearn import datasets\n",
    "from sklearn.feature_extraction.text import TfidfVectorizer\n",
    "from sklearn.svm import SVC\n",
    "from sklearn.cross_validation import KFold, cross_val_score\n",
    "import numpy as np\n",
    "\n",
    "newsgroups = datasets.fetch_20newsgroups(\n",
    "                    subset='all', \n",
    "                    categories=['alt.atheism', 'sci.space']\n",
    "             )\n",
    "             \n",
    "TfIdf = TfidfVectorizer()\n",
    "data = TfIdf.fit_transform(newsgroups.data)\n",
    "labels = newsgroups.target\n",
    "\n",
    "kf = KFold(len(labels), n_folds=5, random_state=241)\n",
    "\n",
    "C = [10**-5, 10**-4, 10**-3, 10**-2, 10**-1, 10**0, 10**1, 10**2, 10**3, 10**4, 10**5]\n",
    "result = []\n",
    "for i in C:\n",
    "\tSVM = SVC(C = i, kernel='linear')\n",
    "\tcv_score = cross_val_score(SVM, data, labels, cv=kf, n_jobs=-1)\n",
    "\tresult.append((i, np.mean(cv_score)))\n",
    "\n",
    "p, error = result[1][0], result[1][1]\n",
    "for pair in result:\n",
    "\tif pair[1] > error:\n",
    "\t\tp, error = pair[0], pair[1]\n",
    "\tprint pair[0], pair[1]\n",
    "print 'best:', p, error\t"
   ]
  },
  {
   "cell_type": "code",
   "execution_count": null,
   "metadata": {
    "collapsed": true
   },
   "outputs": [],
   "source": []
  }
 ],
 "metadata": {
  "kernelspec": {
   "display_name": "Python 2",
   "language": "python",
   "name": "python2"
  },
  "language_info": {
   "codemirror_mode": {
    "name": "ipython",
    "version": 2
   },
   "file_extension": ".py",
   "mimetype": "text/x-python",
   "name": "python",
   "nbconvert_exporter": "python",
   "pygments_lexer": "ipython2",
   "version": "2.7.6"
  }
 },
 "nbformat": 4,
 "nbformat_minor": 0
}
